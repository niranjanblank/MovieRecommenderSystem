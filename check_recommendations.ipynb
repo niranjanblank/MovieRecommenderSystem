{
 "cells": [
  {
   "cell_type": "code",
   "execution_count": 23,
   "metadata": {
    "collapsed": true,
    "ExecuteTime": {
     "end_time": "2023-06-29T10:32:20.074781900Z",
     "start_time": "2023-06-29T10:32:20.073272400Z"
    }
   },
   "outputs": [],
   "source": [
    "import numpy as np\n",
    "import pandas as pd\n",
    "import pickle\n",
    "from helper_functions import get_recommendations\n",
    "import random"
   ]
  },
  {
   "cell_type": "code",
   "execution_count": 7,
   "outputs": [],
   "source": [
    "movies_dataset = pd.read_csv(\"dataset/ml-latest-small/movies.csv\")"
   ],
   "metadata": {
    "collapsed": false,
    "ExecuteTime": {
     "end_time": "2023-06-29T10:24:07.228984100Z",
     "start_time": "2023-06-29T10:24:07.219866800Z"
    }
   }
  },
  {
   "cell_type": "code",
   "execution_count": 3,
   "outputs": [],
   "source": [
    "with open('matrices/cosine_sim.pkl','rb') as f:\n",
    "    cosine_sim = pickle.load(f)"
   ],
   "metadata": {
    "collapsed": false,
    "ExecuteTime": {
     "end_time": "2023-06-29T10:22:16.730243500Z",
     "start_time": "2023-06-29T10:22:16.544663700Z"
    }
   }
  },
  {
   "cell_type": "code",
   "execution_count": 8,
   "outputs": [],
   "source": [
    "with open('matrices/indices.pkl','rb') as f:\n",
    "    indices = pickle.load(f)"
   ],
   "metadata": {
    "collapsed": false,
    "ExecuteTime": {
     "end_time": "2023-06-29T10:24:11.145690300Z",
     "start_time": "2023-06-29T10:24:11.142670700Z"
    }
   }
  },
  {
   "cell_type": "code",
   "execution_count": 20,
   "outputs": [],
   "source": [
    "movie_list = [\"Nico Icon (1995)\",\"Things to Do in Denver When You're Dead (1995)\",\"Once Upon a Time... When We Were Colored (1995)\"]"
   ],
   "metadata": {
    "collapsed": false,
    "ExecuteTime": {
     "end_time": "2023-06-29T10:29:54.312754Z",
     "start_time": "2023-06-29T10:29:54.310242Z"
    }
   }
  },
  {
   "cell_type": "code",
   "execution_count": 21,
   "outputs": [],
   "source": [
    "recommendations = get_recommendations(movie_list,cosine_sim,indices)"
   ],
   "metadata": {
    "collapsed": false,
    "ExecuteTime": {
     "end_time": "2023-06-29T10:29:54.786527900Z",
     "start_time": "2023-06-29T10:29:54.781064100Z"
    }
   }
  },
  {
   "cell_type": "code",
   "execution_count": 24,
   "outputs": [],
   "source": [
    "selected_10_random_recommendations = random.sample(recommendations, k = 10)"
   ],
   "metadata": {
    "collapsed": false,
    "ExecuteTime": {
     "end_time": "2023-06-29T10:32:52.990658900Z",
     "start_time": "2023-06-29T10:32:52.988143Z"
    }
   }
  },
  {
   "cell_type": "code",
   "execution_count": 25,
   "outputs": [
    {
     "data": {
      "text/plain": "      movieId                                  title               genres\n110       128                  Jupiter's Wife (1994)          Documentary\n210       246                     Hoop Dreams (1994)          Documentary\n115       140           Up Close and Personal (1996)        Drama|Romance\n174       206                        Unzipped (1995)          Documentary\n45         49           When Night Is Falling (1995)        Drama|Romance\n804      1053                     Normal Life (1996)  Crime|Drama|Romance\n3584     4914  Breathless (À bout de souffle) (1960)  Crime|Drama|Romance\n42         46   How to Make an American Quilt (1995)        Drama|Romance\n2817     3765                   Hot Spot, The (1990)  Crime|Drama|Romance\n27         28                      Persuasion (1995)        Drama|Romance",
      "text/html": "<div>\n<style scoped>\n    .dataframe tbody tr th:only-of-type {\n        vertical-align: middle;\n    }\n\n    .dataframe tbody tr th {\n        vertical-align: top;\n    }\n\n    .dataframe thead th {\n        text-align: right;\n    }\n</style>\n<table border=\"1\" class=\"dataframe\">\n  <thead>\n    <tr style=\"text-align: right;\">\n      <th></th>\n      <th>movieId</th>\n      <th>title</th>\n      <th>genres</th>\n    </tr>\n  </thead>\n  <tbody>\n    <tr>\n      <th>110</th>\n      <td>128</td>\n      <td>Jupiter's Wife (1994)</td>\n      <td>Documentary</td>\n    </tr>\n    <tr>\n      <th>210</th>\n      <td>246</td>\n      <td>Hoop Dreams (1994)</td>\n      <td>Documentary</td>\n    </tr>\n    <tr>\n      <th>115</th>\n      <td>140</td>\n      <td>Up Close and Personal (1996)</td>\n      <td>Drama|Romance</td>\n    </tr>\n    <tr>\n      <th>174</th>\n      <td>206</td>\n      <td>Unzipped (1995)</td>\n      <td>Documentary</td>\n    </tr>\n    <tr>\n      <th>45</th>\n      <td>49</td>\n      <td>When Night Is Falling (1995)</td>\n      <td>Drama|Romance</td>\n    </tr>\n    <tr>\n      <th>804</th>\n      <td>1053</td>\n      <td>Normal Life (1996)</td>\n      <td>Crime|Drama|Romance</td>\n    </tr>\n    <tr>\n      <th>3584</th>\n      <td>4914</td>\n      <td>Breathless (À bout de souffle) (1960)</td>\n      <td>Crime|Drama|Romance</td>\n    </tr>\n    <tr>\n      <th>42</th>\n      <td>46</td>\n      <td>How to Make an American Quilt (1995)</td>\n      <td>Drama|Romance</td>\n    </tr>\n    <tr>\n      <th>2817</th>\n      <td>3765</td>\n      <td>Hot Spot, The (1990)</td>\n      <td>Crime|Drama|Romance</td>\n    </tr>\n    <tr>\n      <th>27</th>\n      <td>28</td>\n      <td>Persuasion (1995)</td>\n      <td>Drama|Romance</td>\n    </tr>\n  </tbody>\n</table>\n</div>"
     },
     "execution_count": 25,
     "metadata": {},
     "output_type": "execute_result"
    }
   ],
   "source": [
    "movies_dataset.iloc[selected_10_random_recommendations]"
   ],
   "metadata": {
    "collapsed": false,
    "ExecuteTime": {
     "end_time": "2023-06-29T10:33:01.769057Z",
     "start_time": "2023-06-29T10:33:01.749378300Z"
    }
   }
  },
  {
   "cell_type": "code",
   "execution_count": null,
   "outputs": [],
   "source": [],
   "metadata": {
    "collapsed": false
   }
  }
 ],
 "metadata": {
  "kernelspec": {
   "display_name": "Python 3",
   "language": "python",
   "name": "python3"
  },
  "language_info": {
   "codemirror_mode": {
    "name": "ipython",
    "version": 2
   },
   "file_extension": ".py",
   "mimetype": "text/x-python",
   "name": "python",
   "nbconvert_exporter": "python",
   "pygments_lexer": "ipython2",
   "version": "2.7.6"
  }
 },
 "nbformat": 4,
 "nbformat_minor": 0
}

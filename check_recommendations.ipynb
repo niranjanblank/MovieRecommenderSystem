{
 "cells": [
  {
   "cell_type": "code",
   "execution_count": 1,
   "metadata": {
    "collapsed": true,
    "ExecuteTime": {
     "end_time": "2023-07-03T09:42:16.030432200Z",
     "start_time": "2023-07-03T09:42:15.366995Z"
    }
   },
   "outputs": [],
   "source": [
    "import numpy as np\n",
    "import pandas as pd\n",
    "import pickle\n",
    "from helper_functions import get_recommendations\n",
    "import random"
   ]
  },
  {
   "cell_type": "code",
   "execution_count": 2,
   "outputs": [],
   "source": [
    "movies_dataset = pd.read_csv(\"dataset/ml-latest-small/movies.csv\")"
   ],
   "metadata": {
    "collapsed": false,
    "ExecuteTime": {
     "end_time": "2023-07-03T09:42:16.055105800Z",
     "start_time": "2023-07-03T09:42:16.031434700Z"
    }
   }
  },
  {
   "cell_type": "code",
   "execution_count": 3,
   "outputs": [],
   "source": [
    "with open('matrices/cosine_sim.pkl','rb') as f:\n",
    "    cosine_sim = pickle.load(f)"
   ],
   "metadata": {
    "collapsed": false,
    "ExecuteTime": {
     "end_time": "2023-07-03T09:42:19.911285400Z",
     "start_time": "2023-07-03T09:42:16.055105800Z"
    }
   }
  },
  {
   "cell_type": "code",
   "execution_count": 4,
   "outputs": [],
   "source": [
    "with open('matrices/indices.pkl','rb') as f:\n",
    "    indices = pickle.load(f)"
   ],
   "metadata": {
    "collapsed": false,
    "ExecuteTime": {
     "end_time": "2023-07-03T09:42:19.912457900Z",
     "start_time": "2023-07-03T09:42:19.911285400Z"
    }
   }
  },
  {
   "cell_type": "code",
   "execution_count": 5,
   "outputs": [],
   "source": [
    "movie_list = [\"Nico Icon (1995)\",\"Things to Do in Denver When You're Dead (1995)\",\"Once Upon a Time... When We Were Colored (1995)\"]"
   ],
   "metadata": {
    "collapsed": false,
    "ExecuteTime": {
     "end_time": "2023-07-03T09:42:19.923966800Z",
     "start_time": "2023-07-03T09:42:19.911955100Z"
    }
   }
  },
  {
   "cell_type": "code",
   "execution_count": 6,
   "outputs": [],
   "source": [
    "recommendations = get_recommendations(movie_list,cosine_sim,indices)"
   ],
   "metadata": {
    "collapsed": false,
    "ExecuteTime": {
     "end_time": "2023-07-03T09:42:19.926510300Z",
     "start_time": "2023-07-03T09:42:19.913460400Z"
    }
   }
  },
  {
   "cell_type": "code",
   "execution_count": 7,
   "outputs": [],
   "source": [
    "selected_10_random_recommendations = random.sample(recommendations, k = 10)"
   ],
   "metadata": {
    "collapsed": false,
    "ExecuteTime": {
     "end_time": "2023-07-03T09:42:21.030446100Z",
     "start_time": "2023-07-03T09:42:21.024679800Z"
    }
   }
  },
  {
   "cell_type": "code",
   "execution_count": 8,
   "outputs": [
    {
     "data": {
      "text/plain": "      movieId                                             title  \\\n101       116                      Anne Frank Remembered (1995)   \n151       179                                   Mad Love (1995)   \n2817     3765                              Hot Spot, The (1990)   \n93        105             Bridges of Madison County, The (1995)   \n66         74                               Bed of Roses (1996)   \n27         28                                 Persuasion (1995)   \n45         49                      When Night Is Falling (1995)   \n1086     1411                                     Hamlet (1996)   \n1090     1415                     Thieves (Voleurs, Les) (1996)   \n1539     2074  Night Porter, The (Portiere di notte, Il) (1974)   \n\n                   genres  \n101           Documentary  \n151         Drama|Romance  \n2817  Crime|Drama|Romance  \n93          Drama|Romance  \n66          Drama|Romance  \n27          Drama|Romance  \n45          Drama|Romance  \n1086  Crime|Drama|Romance  \n1090  Crime|Drama|Romance  \n1539  Crime|Drama|Romance  ",
      "text/html": "<div>\n<style scoped>\n    .dataframe tbody tr th:only-of-type {\n        vertical-align: middle;\n    }\n\n    .dataframe tbody tr th {\n        vertical-align: top;\n    }\n\n    .dataframe thead th {\n        text-align: right;\n    }\n</style>\n<table border=\"1\" class=\"dataframe\">\n  <thead>\n    <tr style=\"text-align: right;\">\n      <th></th>\n      <th>movieId</th>\n      <th>title</th>\n      <th>genres</th>\n    </tr>\n  </thead>\n  <tbody>\n    <tr>\n      <th>101</th>\n      <td>116</td>\n      <td>Anne Frank Remembered (1995)</td>\n      <td>Documentary</td>\n    </tr>\n    <tr>\n      <th>151</th>\n      <td>179</td>\n      <td>Mad Love (1995)</td>\n      <td>Drama|Romance</td>\n    </tr>\n    <tr>\n      <th>2817</th>\n      <td>3765</td>\n      <td>Hot Spot, The (1990)</td>\n      <td>Crime|Drama|Romance</td>\n    </tr>\n    <tr>\n      <th>93</th>\n      <td>105</td>\n      <td>Bridges of Madison County, The (1995)</td>\n      <td>Drama|Romance</td>\n    </tr>\n    <tr>\n      <th>66</th>\n      <td>74</td>\n      <td>Bed of Roses (1996)</td>\n      <td>Drama|Romance</td>\n    </tr>\n    <tr>\n      <th>27</th>\n      <td>28</td>\n      <td>Persuasion (1995)</td>\n      <td>Drama|Romance</td>\n    </tr>\n    <tr>\n      <th>45</th>\n      <td>49</td>\n      <td>When Night Is Falling (1995)</td>\n      <td>Drama|Romance</td>\n    </tr>\n    <tr>\n      <th>1086</th>\n      <td>1411</td>\n      <td>Hamlet (1996)</td>\n      <td>Crime|Drama|Romance</td>\n    </tr>\n    <tr>\n      <th>1090</th>\n      <td>1415</td>\n      <td>Thieves (Voleurs, Les) (1996)</td>\n      <td>Crime|Drama|Romance</td>\n    </tr>\n    <tr>\n      <th>1539</th>\n      <td>2074</td>\n      <td>Night Porter, The (Portiere di notte, Il) (1974)</td>\n      <td>Crime|Drama|Romance</td>\n    </tr>\n  </tbody>\n</table>\n</div>"
     },
     "execution_count": 8,
     "metadata": {},
     "output_type": "execute_result"
    }
   ],
   "source": [
    "movies_dataset.iloc[selected_10_random_recommendations]"
   ],
   "metadata": {
    "collapsed": false,
    "ExecuteTime": {
     "end_time": "2023-07-03T09:42:21.495076300Z",
     "start_time": "2023-07-03T09:42:21.485283300Z"
    }
   }
  },
  {
   "cell_type": "code",
   "execution_count": null,
   "outputs": [],
   "source": [],
   "metadata": {
    "collapsed": false
   }
  }
 ],
 "metadata": {
  "kernelspec": {
   "display_name": "Python 3",
   "language": "python",
   "name": "python3"
  },
  "language_info": {
   "codemirror_mode": {
    "name": "ipython",
    "version": 2
   },
   "file_extension": ".py",
   "mimetype": "text/x-python",
   "name": "python",
   "nbconvert_exporter": "python",
   "pygments_lexer": "ipython2",
   "version": "2.7.6"
  }
 },
 "nbformat": 4,
 "nbformat_minor": 0
}

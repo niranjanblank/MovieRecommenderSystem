{
 "cells": [
  {
   "cell_type": "code",
   "execution_count": 49,
   "metadata": {
    "collapsed": true,
    "ExecuteTime": {
     "end_time": "2023-06-29T10:19:42.854742500Z",
     "start_time": "2023-06-29T10:19:42.849787300Z"
    }
   },
   "outputs": [],
   "source": [
    "import numpy as np\n",
    "import pandas as pd\n",
    "from sklearn.feature_extraction.text import TfidfVectorizer\n",
    "from sklearn.metrics.pairwise import cosine_similarity"
   ]
  },
  {
   "cell_type": "code",
   "execution_count": 50,
   "outputs": [],
   "source": [
    "## loading the dataset\n",
    "movies_dataset = pd.read_csv(\"dataset/ml-latest-small/movies.csv\")"
   ],
   "metadata": {
    "collapsed": false,
    "ExecuteTime": {
     "end_time": "2023-06-29T10:19:43.504754600Z",
     "start_time": "2023-06-29T10:19:43.494708100Z"
    }
   }
  },
  {
   "cell_type": "code",
   "execution_count": 51,
   "outputs": [
    {
     "data": {
      "text/plain": "   movieId                               title  \\\n0        1                    Toy Story (1995)   \n1        2                      Jumanji (1995)   \n2        3             Grumpier Old Men (1995)   \n3        4            Waiting to Exhale (1995)   \n4        5  Father of the Bride Part II (1995)   \n\n                                        genres  \n0  Adventure|Animation|Children|Comedy|Fantasy  \n1                   Adventure|Children|Fantasy  \n2                               Comedy|Romance  \n3                         Comedy|Drama|Romance  \n4                                       Comedy  ",
      "text/html": "<div>\n<style scoped>\n    .dataframe tbody tr th:only-of-type {\n        vertical-align: middle;\n    }\n\n    .dataframe tbody tr th {\n        vertical-align: top;\n    }\n\n    .dataframe thead th {\n        text-align: right;\n    }\n</style>\n<table border=\"1\" class=\"dataframe\">\n  <thead>\n    <tr style=\"text-align: right;\">\n      <th></th>\n      <th>movieId</th>\n      <th>title</th>\n      <th>genres</th>\n    </tr>\n  </thead>\n  <tbody>\n    <tr>\n      <th>0</th>\n      <td>1</td>\n      <td>Toy Story (1995)</td>\n      <td>Adventure|Animation|Children|Comedy|Fantasy</td>\n    </tr>\n    <tr>\n      <th>1</th>\n      <td>2</td>\n      <td>Jumanji (1995)</td>\n      <td>Adventure|Children|Fantasy</td>\n    </tr>\n    <tr>\n      <th>2</th>\n      <td>3</td>\n      <td>Grumpier Old Men (1995)</td>\n      <td>Comedy|Romance</td>\n    </tr>\n    <tr>\n      <th>3</th>\n      <td>4</td>\n      <td>Waiting to Exhale (1995)</td>\n      <td>Comedy|Drama|Romance</td>\n    </tr>\n    <tr>\n      <th>4</th>\n      <td>5</td>\n      <td>Father of the Bride Part II (1995)</td>\n      <td>Comedy</td>\n    </tr>\n  </tbody>\n</table>\n</div>"
     },
     "execution_count": 51,
     "metadata": {},
     "output_type": "execute_result"
    }
   ],
   "source": [
    "movies_dataset.head()"
   ],
   "metadata": {
    "collapsed": false,
    "ExecuteTime": {
     "end_time": "2023-06-29T10:19:44.451527800Z",
     "start_time": "2023-06-29T10:19:44.447875700Z"
    }
   }
  },
  {
   "cell_type": "code",
   "execution_count": 52,
   "outputs": [],
   "source": [
    "# converting from \"genre1|genre2|genre3\" to \"genre1 genre2 genre3\"\n",
    "movies_dataset[\"genres\"] = movies_dataset[\"genres\"].fillna('').str.replace(\"|\",\" \")"
   ],
   "metadata": {
    "collapsed": false,
    "ExecuteTime": {
     "end_time": "2023-06-29T10:19:47.344082900Z",
     "start_time": "2023-06-29T10:19:47.338553900Z"
    }
   }
  },
  {
   "cell_type": "code",
   "execution_count": 53,
   "outputs": [
    {
     "data": {
      "text/plain": "   movieId                               title  \\\n0        1                    Toy Story (1995)   \n1        2                      Jumanji (1995)   \n2        3             Grumpier Old Men (1995)   \n3        4            Waiting to Exhale (1995)   \n4        5  Father of the Bride Part II (1995)   \n\n                                        genres  \n0  Adventure Animation Children Comedy Fantasy  \n1                   Adventure Children Fantasy  \n2                               Comedy Romance  \n3                         Comedy Drama Romance  \n4                                       Comedy  ",
      "text/html": "<div>\n<style scoped>\n    .dataframe tbody tr th:only-of-type {\n        vertical-align: middle;\n    }\n\n    .dataframe tbody tr th {\n        vertical-align: top;\n    }\n\n    .dataframe thead th {\n        text-align: right;\n    }\n</style>\n<table border=\"1\" class=\"dataframe\">\n  <thead>\n    <tr style=\"text-align: right;\">\n      <th></th>\n      <th>movieId</th>\n      <th>title</th>\n      <th>genres</th>\n    </tr>\n  </thead>\n  <tbody>\n    <tr>\n      <th>0</th>\n      <td>1</td>\n      <td>Toy Story (1995)</td>\n      <td>Adventure Animation Children Comedy Fantasy</td>\n    </tr>\n    <tr>\n      <th>1</th>\n      <td>2</td>\n      <td>Jumanji (1995)</td>\n      <td>Adventure Children Fantasy</td>\n    </tr>\n    <tr>\n      <th>2</th>\n      <td>3</td>\n      <td>Grumpier Old Men (1995)</td>\n      <td>Comedy Romance</td>\n    </tr>\n    <tr>\n      <th>3</th>\n      <td>4</td>\n      <td>Waiting to Exhale (1995)</td>\n      <td>Comedy Drama Romance</td>\n    </tr>\n    <tr>\n      <th>4</th>\n      <td>5</td>\n      <td>Father of the Bride Part II (1995)</td>\n      <td>Comedy</td>\n    </tr>\n  </tbody>\n</table>\n</div>"
     },
     "execution_count": 53,
     "metadata": {},
     "output_type": "execute_result"
    }
   ],
   "source": [
    "movies_dataset.head()"
   ],
   "metadata": {
    "collapsed": false,
    "ExecuteTime": {
     "end_time": "2023-06-29T10:19:47.401403500Z",
     "start_time": "2023-06-29T10:19:47.396980400Z"
    }
   }
  },
  {
   "cell_type": "code",
   "execution_count": 8,
   "outputs": [],
   "source": [
    "# developing a tfidf matrix\n",
    "tfidf = TfidfVectorizer()\n",
    "tfidf_matrix = tfidf.fit_transform(movies_dataset['genres'])"
   ],
   "metadata": {
    "collapsed": false,
    "ExecuteTime": {
     "end_time": "2023-06-29T09:05:32.029286500Z",
     "start_time": "2023-06-29T09:05:32.026478Z"
    }
   }
  },
  {
   "cell_type": "code",
   "execution_count": 12,
   "outputs": [],
   "source": [
    "# computing a cosine similarity from the tf-idf matrix\n",
    "from sklearn.metrics.pairwise import cosine_similarity\n",
    "\n",
    "cosine_sim = cosine_similarity(tfidf_matrix, tfidf_matrix)"
   ],
   "metadata": {
    "collapsed": false,
    "ExecuteTime": {
     "end_time": "2023-06-29T09:13:09.723903400Z",
     "start_time": "2023-06-29T09:13:09.274501800Z"
    }
   }
  },
  {
   "cell_type": "code",
   "execution_count": 13,
   "outputs": [],
   "source": [],
   "metadata": {
    "collapsed": false,
    "ExecuteTime": {
     "end_time": "2023-06-29T09:13:33.129889800Z",
     "start_time": "2023-06-29T09:13:33.124381800Z"
    }
   }
  },
  {
   "cell_type": "code",
   "execution_count": 15,
   "outputs": [],
   "source": [
    "# save the matrix for future use\n",
    "import pickle\n",
    "\n",
    "with open('matrices/tfidf_matrix.pkl', 'wb') as f:\n",
    "    pickle.dump(tfidf_matrix, f)\n",
    "\n",
    "with open('matrices/cosine_sim.pkl', 'wb') as f:\n",
    "    pickle.dump(cosine_sim, f)"
   ],
   "metadata": {
    "collapsed": false,
    "ExecuteTime": {
     "end_time": "2023-06-29T09:24:23.591327100Z",
     "start_time": "2023-06-29T09:24:19.677264500Z"
    }
   }
  },
  {
   "cell_type": "code",
   "execution_count": 17,
   "outputs": [],
   "source": [
    "# creating indices for further use in recommendation\n",
    "indices = pd.Series(movies_dataset.index, index=movies_dataset['title']).drop_duplicates()"
   ],
   "metadata": {
    "collapsed": false,
    "ExecuteTime": {
     "end_time": "2023-06-29T09:36:43.615901600Z",
     "start_time": "2023-06-29T09:36:43.614340100Z"
    }
   }
  },
  {
   "cell_type": "code",
   "execution_count": 18,
   "outputs": [],
   "source": [
    "with open('matrices/indices.pkl', 'wb') as f:\n",
    "    pickle.dump(indices, f)"
   ],
   "metadata": {
    "collapsed": false,
    "ExecuteTime": {
     "end_time": "2023-06-29T09:37:03.156435300Z",
     "start_time": "2023-06-29T09:37:03.149187700Z"
    }
   }
  },
  {
   "cell_type": "code",
   "execution_count": 29,
   "outputs": [],
   "source": [],
   "metadata": {
    "collapsed": false,
    "ExecuteTime": {
     "end_time": "2023-06-29T10:13:08.022167700Z",
     "start_time": "2023-06-29T10:13:08.019658300Z"
    }
   }
  },
  {
   "cell_type": "code",
   "execution_count": 35,
   "outputs": [
    {
     "name": "stderr",
     "output_type": "stream",
     "text": [
      "UsageError: Line magic function `%autoreload` not found.\n"
     ]
    }
   ],
   "source": [
    "\n",
    "from helper_functions import get_recommendations"
   ],
   "metadata": {
    "collapsed": false,
    "ExecuteTime": {
     "end_time": "2023-06-29T10:15:16.118937600Z",
     "start_time": "2023-06-29T10:15:16.116417900Z"
    }
   }
  },
  {
   "cell_type": "code",
   "execution_count": 46,
   "outputs": [],
   "source": [
    "recommendations = get_recommendations([\"Things to Do in Denver When You're Dead (1995)\"],cosine_sim,indices,movies_dataset)"
   ],
   "metadata": {
    "collapsed": false,
    "ExecuteTime": {
     "end_time": "2023-06-29T10:18:04.150879100Z",
     "start_time": "2023-06-29T10:18:04.149869200Z"
    }
   }
  },
  {
   "cell_type": "code",
   "execution_count": 47,
   "outputs": [
    {
     "data": {
      "text/plain": "Index([804, 893, 1086, 1090, 1539, 1588, 2817, 3487, 3584, 4186], dtype='int64')"
     },
     "execution_count": 47,
     "metadata": {},
     "output_type": "execute_result"
    }
   ],
   "source": [
    "recommendations"
   ],
   "metadata": {
    "collapsed": false,
    "ExecuteTime": {
     "end_time": "2023-06-29T10:18:04.610081900Z",
     "start_time": "2023-06-29T10:18:04.605998800Z"
    }
   }
  },
  {
   "cell_type": "code",
   "execution_count": 48,
   "outputs": [
    {
     "data": {
      "text/plain": "      movieId                                              title  \\\n804      1053                                 Normal Life (1996)   \n893      1190           Tie Me Up! Tie Me Down! (¡Átame!) (1990)   \n1086     1411                                      Hamlet (1996)   \n1090     1415                      Thieves (Voleurs, Les) (1996)   \n1539     2074   Night Porter, The (Portiere di notte, Il) (1974)   \n1588     2130                               Atlantic City (1980)   \n2817     3765                               Hot Spot, The (1990)   \n3487     4766  Our Lady of the Assassins (Virgen de los sicar...   \n3584     4914              Breathless (À bout de souffle) (1960)   \n4186     6035                                Pépé le Moko (1937)   \n\n                   genres  \n804   Crime Drama Romance  \n893   Crime Drama Romance  \n1086  Crime Drama Romance  \n1090  Crime Drama Romance  \n1539  Crime Drama Romance  \n1588  Crime Drama Romance  \n2817  Crime Drama Romance  \n3487  Crime Drama Romance  \n3584  Crime Drama Romance  \n4186  Crime Drama Romance  ",
      "text/html": "<div>\n<style scoped>\n    .dataframe tbody tr th:only-of-type {\n        vertical-align: middle;\n    }\n\n    .dataframe tbody tr th {\n        vertical-align: top;\n    }\n\n    .dataframe thead th {\n        text-align: right;\n    }\n</style>\n<table border=\"1\" class=\"dataframe\">\n  <thead>\n    <tr style=\"text-align: right;\">\n      <th></th>\n      <th>movieId</th>\n      <th>title</th>\n      <th>genres</th>\n    </tr>\n  </thead>\n  <tbody>\n    <tr>\n      <th>804</th>\n      <td>1053</td>\n      <td>Normal Life (1996)</td>\n      <td>Crime Drama Romance</td>\n    </tr>\n    <tr>\n      <th>893</th>\n      <td>1190</td>\n      <td>Tie Me Up! Tie Me Down! (¡Átame!) (1990)</td>\n      <td>Crime Drama Romance</td>\n    </tr>\n    <tr>\n      <th>1086</th>\n      <td>1411</td>\n      <td>Hamlet (1996)</td>\n      <td>Crime Drama Romance</td>\n    </tr>\n    <tr>\n      <th>1090</th>\n      <td>1415</td>\n      <td>Thieves (Voleurs, Les) (1996)</td>\n      <td>Crime Drama Romance</td>\n    </tr>\n    <tr>\n      <th>1539</th>\n      <td>2074</td>\n      <td>Night Porter, The (Portiere di notte, Il) (1974)</td>\n      <td>Crime Drama Romance</td>\n    </tr>\n    <tr>\n      <th>1588</th>\n      <td>2130</td>\n      <td>Atlantic City (1980)</td>\n      <td>Crime Drama Romance</td>\n    </tr>\n    <tr>\n      <th>2817</th>\n      <td>3765</td>\n      <td>Hot Spot, The (1990)</td>\n      <td>Crime Drama Romance</td>\n    </tr>\n    <tr>\n      <th>3487</th>\n      <td>4766</td>\n      <td>Our Lady of the Assassins (Virgen de los sicar...</td>\n      <td>Crime Drama Romance</td>\n    </tr>\n    <tr>\n      <th>3584</th>\n      <td>4914</td>\n      <td>Breathless (À bout de souffle) (1960)</td>\n      <td>Crime Drama Romance</td>\n    </tr>\n    <tr>\n      <th>4186</th>\n      <td>6035</td>\n      <td>Pépé le Moko (1937)</td>\n      <td>Crime Drama Romance</td>\n    </tr>\n  </tbody>\n</table>\n</div>"
     },
     "execution_count": 48,
     "metadata": {},
     "output_type": "execute_result"
    }
   ],
   "source": [
    "movies_dataset.iloc[recommendations]"
   ],
   "metadata": {
    "collapsed": false,
    "ExecuteTime": {
     "end_time": "2023-06-29T10:18:08.435551400Z",
     "start_time": "2023-06-29T10:18:08.432521100Z"
    }
   }
  },
  {
   "cell_type": "code",
   "execution_count": null,
   "outputs": [],
   "source": [],
   "metadata": {
    "collapsed": false
   }
  }
 ],
 "metadata": {
  "kernelspec": {
   "display_name": "Python 3",
   "language": "python",
   "name": "python3"
  },
  "language_info": {
   "codemirror_mode": {
    "name": "ipython",
    "version": 2
   },
   "file_extension": ".py",
   "mimetype": "text/x-python",
   "name": "python",
   "nbconvert_exporter": "python",
   "pygments_lexer": "ipython2",
   "version": "2.7.6"
  }
 },
 "nbformat": 4,
 "nbformat_minor": 0
}
